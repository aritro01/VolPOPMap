{
 "metadata": {
  "language_info": {
   "codemirror_mode": {
    "name": "ipython",
    "version": 3
   },
   "file_extension": ".py",
   "mimetype": "text/x-python",
   "name": "python",
   "nbconvert_exporter": "python",
   "pygments_lexer": "ipython3",
   "version": "3.8.3-final"
  },
  "orig_nbformat": 2,
  "kernelspec": {
   "name": "python_defaultSpec_1599374750493",
   "display_name": "Python 3.8.3 64-bit ('base': conda)"
  }
 },
 "nbformat": 4,
 "nbformat_minor": 2,
 "cells": [
  {
   "cell_type": "code",
   "execution_count": 10,
   "metadata": {},
   "outputs": [],
   "source": [
    "import folium"
   ]
  },
  {
   "cell_type": "code",
   "execution_count": 11,
   "metadata": {},
   "outputs": [],
   "source": [
    "fg = folium.FeatureGroup(name=\"My Map\")\n",
    "fg = folium.Map(location=[40.740925, -73.989886], zoom_start=60, tiles=\"Stamen Terrain\")\n",
    "fg.add_child(folium.Marker(location=[40.740925, -73.989886], popup=\"Pointer\", icon=folium.Icon(color=\"red\")))\n",
    "map.add_child(fg)\n",
    "map.save(\"index.htm\")"
   ]
  }
 ]
}